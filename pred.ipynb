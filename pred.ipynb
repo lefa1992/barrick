{
 "cells": [
  {
   "cell_type": "code",
   "execution_count": 83,
   "metadata": {
    "collapsed": false
   },
   "outputs": [
    {
     "name": "stdout",
     "output_type": "stream",
     "text": [
      "/Users/leof/Desktop/Final Data Set - Toronto/Challenge 2 - Future Mine Maintenance\n"
     ]
    }
   ],
   "source": [
    "import pandas as pd\n",
    "import numpy as np\n",
    "from sklearn.linear_model import LogisticRegression as logr\n",
    "from datetime import datetime\n",
    "import os\n",
    "import numpy as np\n",
    "print(os.getcwd())"
   ]
  },
  {
   "cell_type": "code",
   "execution_count": 84,
   "metadata": {
    "collapsed": false
   },
   "outputs": [
    {
     "name": "stderr",
     "output_type": "stream",
     "text": [
      "/Users/leof/anaconda/lib/python3.5/site-packages/ipykernel/__main__.py:2: ParserWarning: Falling back to the 'python' engine because the 'c' engine does not support skip_footer; you can avoid this warning by specifying engine='python'.\n",
      "  from ipykernel import kernelapp as app\n"
     ]
    }
   ],
   "source": [
    "downtimetruck = pd.read_csv(\"p3/wod/dot2016.csv\", encoding = \"ISO-8859-1\")\n",
    "cycle = pd.read_csv(\"p1/2_cycle/TruckCyclesCube v1.csv\", encoding = \"ISO-8859-1\", skipfooter=1 )\n",
    "downtimetruck['truckno'] = downtimetruck['Equipo'].str.replace(\"TK\",\"\").astype(float)\n",
    "cycle['truckno'] = cycle[\"Row Labels\"].astype(float)\n",
    "downtimetruck['maint_date'] = pd.to_datetime(downtimetruck['Start Time'].str[0:8],\\\n",
    "                                             infer_datetime_format=True, errors='coerce')\n",
    "cycle['date'] = '2016-' + cycle['Month'].map(str) +'-'+ cycle['Day'].map(str)\n",
    "cycle['date'] = pd.to_datetime(cycle['date'],infer_datetime_format=True, errors='coerce')\n",
    "del cycle['Row Labels']\n",
    "del cycle['Month']\n",
    "del cycle['Day']\n",
    "#del cycle['date']"
   ]
  },
  {
   "cell_type": "code",
   "execution_count": 85,
   "metadata": {
    "collapsed": false
   },
   "outputs": [
    {
     "data": {
      "text/html": [
       "<div>\n",
       "<table border=\"1\" class=\"dataframe\">\n",
       "  <thead>\n",
       "    <tr style=\"text-align: right;\">\n",
       "      <th></th>\n",
       "      <th>Payloads</th>\n",
       "      <th>Paytons</th>\n",
       "      <th>CycleTime_Sum_Minutes</th>\n",
       "      <th>Traveling_Sum_Minutes</th>\n",
       "      <th>Waiting_Sum_Minutes</th>\n",
       "      <th>Spotting_Sum_Minutes</th>\n",
       "      <th>Loading_Sum_Minutes</th>\n",
       "      <th>Hauling_Sum_Minutes</th>\n",
       "      <th>Queued_Sum_Minutes</th>\n",
       "      <th>Backing_Sum_Minutes</th>\n",
       "      <th>Tipping_Sum_Minutes</th>\n",
       "      <th>truckno</th>\n",
       "      <th>date</th>\n",
       "    </tr>\n",
       "  </thead>\n",
       "  <tbody>\n",
       "    <tr>\n",
       "      <th>0</th>\n",
       "      <td>1</td>\n",
       "      <td>162.199997</td>\n",
       "      <td>33.216667</td>\n",
       "      <td>14.883333</td>\n",
       "      <td>1.316667</td>\n",
       "      <td>0.350000</td>\n",
       "      <td>3.466667</td>\n",
       "      <td>12.283333</td>\n",
       "      <td>0.033333</td>\n",
       "      <td>0.366667</td>\n",
       "      <td>0.516667</td>\n",
       "      <td>403.0</td>\n",
       "      <td>2016-02-01</td>\n",
       "    </tr>\n",
       "    <tr>\n",
       "      <th>1</th>\n",
       "      <td>2</td>\n",
       "      <td>345.799988</td>\n",
       "      <td>32.316667</td>\n",
       "      <td>15.516667</td>\n",
       "      <td>0.866667</td>\n",
       "      <td>0.200000</td>\n",
       "      <td>2.633333</td>\n",
       "      <td>12.483333</td>\n",
       "      <td>0.283333</td>\n",
       "      <td>0.333333</td>\n",
       "      <td>0.000000</td>\n",
       "      <td>403.0</td>\n",
       "      <td>2016-02-01</td>\n",
       "    </tr>\n",
       "    <tr>\n",
       "      <th>2</th>\n",
       "      <td>1</td>\n",
       "      <td>163.399994</td>\n",
       "      <td>26.400000</td>\n",
       "      <td>5.866667</td>\n",
       "      <td>6.166667</td>\n",
       "      <td>0.200000</td>\n",
       "      <td>2.416667</td>\n",
       "      <td>10.883333</td>\n",
       "      <td>0.000000</td>\n",
       "      <td>0.400000</td>\n",
       "      <td>0.466667</td>\n",
       "      <td>403.0</td>\n",
       "      <td>2016-02-01</td>\n",
       "    </tr>\n",
       "    <tr>\n",
       "      <th>3</th>\n",
       "      <td>4</td>\n",
       "      <td>729.299988</td>\n",
       "      <td>180.483333</td>\n",
       "      <td>88.550000</td>\n",
       "      <td>5.266667</td>\n",
       "      <td>2.283333</td>\n",
       "      <td>11.883333</td>\n",
       "      <td>65.916667</td>\n",
       "      <td>2.366667</td>\n",
       "      <td>2.133333</td>\n",
       "      <td>2.083333</td>\n",
       "      <td>403.0</td>\n",
       "      <td>2016-02-01</td>\n",
       "    </tr>\n",
       "    <tr>\n",
       "      <th>4</th>\n",
       "      <td>3</td>\n",
       "      <td>546.400009</td>\n",
       "      <td>107.933333</td>\n",
       "      <td>39.300000</td>\n",
       "      <td>7.283333</td>\n",
       "      <td>0.433333</td>\n",
       "      <td>6.566667</td>\n",
       "      <td>50.050000</td>\n",
       "      <td>0.816667</td>\n",
       "      <td>1.266667</td>\n",
       "      <td>2.216667</td>\n",
       "      <td>403.0</td>\n",
       "      <td>2016-02-01</td>\n",
       "    </tr>\n",
       "  </tbody>\n",
       "</table>\n",
       "</div>"
      ],
      "text/plain": [
       "   Payloads     Paytons  CycleTime_Sum_Minutes  Traveling_Sum_Minutes  \\\n",
       "0         1  162.199997              33.216667              14.883333   \n",
       "1         2  345.799988              32.316667              15.516667   \n",
       "2         1  163.399994              26.400000               5.866667   \n",
       "3         4  729.299988             180.483333              88.550000   \n",
       "4         3  546.400009             107.933333              39.300000   \n",
       "\n",
       "   Waiting_Sum_Minutes  Spotting_Sum_Minutes  Loading_Sum_Minutes  \\\n",
       "0             1.316667              0.350000             3.466667   \n",
       "1             0.866667              0.200000             2.633333   \n",
       "2             6.166667              0.200000             2.416667   \n",
       "3             5.266667              2.283333            11.883333   \n",
       "4             7.283333              0.433333             6.566667   \n",
       "\n",
       "   Hauling_Sum_Minutes  Queued_Sum_Minutes  Backing_Sum_Minutes  \\\n",
       "0            12.283333            0.033333             0.366667   \n",
       "1            12.483333            0.283333             0.333333   \n",
       "2            10.883333            0.000000             0.400000   \n",
       "3            65.916667            2.366667             2.133333   \n",
       "4            50.050000            0.816667             1.266667   \n",
       "\n",
       "   Tipping_Sum_Minutes  truckno       date  \n",
       "0             0.516667    403.0 2016-02-01  \n",
       "1             0.000000    403.0 2016-02-01  \n",
       "2             0.466667    403.0 2016-02-01  \n",
       "3             2.083333    403.0 2016-02-01  \n",
       "4             2.216667    403.0 2016-02-01  "
      ]
     },
     "execution_count": 85,
     "metadata": {},
     "output_type": "execute_result"
    }
   ],
   "source": [
    "cycle.head()"
   ]
  },
  {
   "cell_type": "code",
   "execution_count": 86,
   "metadata": {
    "collapsed": false
   },
   "outputs": [],
   "source": [
    "downtimetruck = downtimetruck[downtimetruck['Work Type'] == 'No programado'][['maint_date','truckno','Duration (min)','System_google_translated']]\n",
    "downtimetruck.head()\n",
    "downtimetruck_maint_only = downtimetruck[['maint_date','truckno']].drop_duplicates()\n"
   ]
  },
  {
   "cell_type": "code",
   "execution_count": 87,
   "metadata": {
    "collapsed": false
   },
   "outputs": [
    {
     "data": {
      "text/html": [
       "<div>\n",
       "<table border=\"1\" class=\"dataframe\">\n",
       "  <thead>\n",
       "    <tr style=\"text-align: right;\">\n",
       "      <th></th>\n",
       "      <th>maint_date</th>\n",
       "      <th>truckno</th>\n",
       "      <th>maint</th>\n",
       "    </tr>\n",
       "  </thead>\n",
       "  <tbody>\n",
       "    <tr>\n",
       "      <th>0</th>\n",
       "      <td>2016-01-01</td>\n",
       "      <td>408.0</td>\n",
       "      <td>1</td>\n",
       "    </tr>\n",
       "    <tr>\n",
       "      <th>1</th>\n",
       "      <td>2016-01-02</td>\n",
       "      <td>408.0</td>\n",
       "      <td>1</td>\n",
       "    </tr>\n",
       "    <tr>\n",
       "      <th>2</th>\n",
       "      <td>2016-01-02</td>\n",
       "      <td>403.0</td>\n",
       "      <td>1</td>\n",
       "    </tr>\n",
       "    <tr>\n",
       "      <th>5</th>\n",
       "      <td>2016-01-03</td>\n",
       "      <td>408.0</td>\n",
       "      <td>1</td>\n",
       "    </tr>\n",
       "    <tr>\n",
       "      <th>7</th>\n",
       "      <td>2016-01-03</td>\n",
       "      <td>434.0</td>\n",
       "      <td>1</td>\n",
       "    </tr>\n",
       "  </tbody>\n",
       "</table>\n",
       "</div>"
      ],
      "text/plain": [
       "  maint_date  truckno  maint\n",
       "0 2016-01-01    408.0      1\n",
       "1 2016-01-02    408.0      1\n",
       "2 2016-01-02    403.0      1\n",
       "5 2016-01-03    408.0      1\n",
       "7 2016-01-03    434.0      1"
      ]
     },
     "execution_count": 87,
     "metadata": {},
     "output_type": "execute_result"
    }
   ],
   "source": [
    "downtimetruck_maint_only['maint'] = 1\n",
    "downtimetruck_maint_only.head()"
   ]
  },
  {
   "cell_type": "code",
   "execution_count": 88,
   "metadata": {
    "collapsed": false
   },
   "outputs": [],
   "source": [
    "#df2 is whether or not maint happened\n",
    "df2 = cycle.merge(downtimetruck_maint_only, left_on=['truckno','date'], right_on=['truckno','maint_date'], how='left')\n",
    "df2['maint_date_prev'] = df2.groupby(['truckno'])['maint_date'].shift(1)\n",
    "df2['days_since_last_maint'] = (df2.maint_date -df2.maint_date_prev ).dt.days\n",
    "df2.loc[df2['days_since_last_maint'].isnull(), 'days_since_last_maint'] = 0\n",
    "df2['days_since_start'] = (df2.date - datetime(2016, 1, 1)).dt.days\n",
    "df2.loc[df2['maint'].isnull(), 'maint'] = 0\n",
    "\n",
    "\n",
    "del df2['maint_date']\n",
    "del df2['maint_date_prev']\n",
    "del df2['date']\n",
    "\n",
    "df2['is_train'] = np.random.uniform(0, 1, len(df2)) <= .55\n",
    "\n",
    "train2, test2 = df2[df2['is_train']==True], df2[df2['is_train']==False]\n",
    "\n",
    "features_train2 = train2.ix[:, train2.columns != 'maint']\n",
    "features_test2 = test2.ix[:, test2.columns != 'maint']\n",
    "\n",
    "y_train2 = train2['maint']\n",
    "y_test2 = test2['maint']\n",
    "\n",
    "#df2.head()\n",
    "\n",
    "from sklearn.ensemble import RandomForestClassifier\n",
    "clf2 = RandomForestClassifier(n_jobs=4, random_state=0, n_estimators=1000)\n",
    "classifier2 = clf2.fit(features_train2, y_train2)\n",
    "predictions2 = classifier2.predict_proba(features_test2)\n"
   ]
  },
  {
   "cell_type": "code",
   "execution_count": 90,
   "metadata": {
    "collapsed": false
   },
   "outputs": [
    {
     "data": {
      "text/plain": [
       "0.85114401076716018"
      ]
     },
     "execution_count": 90,
     "metadata": {},
     "output_type": "execute_result"
    }
   ],
   "source": [
    "#test model perf\n",
    "((predictions2[:,1]>0.5).tolist() == (y_test2==1)).mean()"
   ]
  },
  {
   "cell_type": "code",
   "execution_count": null,
   "metadata": {
    "collapsed": true
   },
   "outputs": [],
   "source": []
  },
  {
   "cell_type": "code",
   "execution_count": null,
   "metadata": {
    "collapsed": true
   },
   "outputs": [],
   "source": []
  },
  {
   "cell_type": "code",
   "execution_count": null,
   "metadata": {
    "collapsed": true
   },
   "outputs": [],
   "source": []
  },
  {
   "cell_type": "code",
   "execution_count": 6,
   "metadata": {
    "collapsed": false
   },
   "outputs": [],
   "source": [
    "df = cycle.merge(downtimetruck, left_on=['truckno','date'], right_on=['truckno','maint_date'], how='left')\n",
    "df.loc[df['Duration (min)'].isnull(), 'Duration (min)'] = 0\n",
    "df['maint_date_cat_prev'] = df.groupby(['truckno','System_google_translated'])['maint_date'].shift(1)\n",
    "df['days_since_last_maint_cat'] = (df.maint_date -df.maint_date_cat_prev ).dt.days\n",
    "df.loc[df['days_since_last_maint_cat'].isnull(), 'days_since_last_maint_cat'] = 0\n",
    "\n",
    "df['maint_date_prev'] = df.groupby(['truckno'])['maint_date'].shift(1)\n",
    "df['days_since_last_maint'] = (df.maint_date -df.maint_date_prev ).dt.days\n",
    "df.loc[df['days_since_last_maint'].isnull(), 'days_since_last_maint'] = 0\n",
    "\n",
    "df['days_since_start'] = (df.date - datetime(2016, 1, 1)).dt.days"
   ]
  },
  {
   "cell_type": "code",
   "execution_count": 7,
   "metadata": {
    "collapsed": false,
    "scrolled": true
   },
   "outputs": [
    {
     "data": {
      "text/plain": [
       "Payloads                              int64\n",
       "Paytons                             float64\n",
       "CycleTime_Sum_Minutes               float64\n",
       "Traveling_Sum_Minutes               float64\n",
       "Waiting_Sum_Minutes                 float64\n",
       "Spotting_Sum_Minutes                float64\n",
       "Loading_Sum_Minutes                 float64\n",
       "Hauling_Sum_Minutes                 float64\n",
       "Queued_Sum_Minutes                  float64\n",
       "Backing_Sum_Minutes                 float64\n",
       "Tipping_Sum_Minutes                 float64\n",
       "truckno                             float64\n",
       "date                         datetime64[ns]\n",
       "Duration (min)                      float64\n",
       "System_google_translated             object\n",
       "days_since_last_maint_cat           float64\n",
       "days_since_last_maint               float64\n",
       "days_since_start                      int64\n",
       "dtype: object"
      ]
     },
     "execution_count": 7,
     "metadata": {},
     "output_type": "execute_result"
    }
   ],
   "source": [
    "#df = df.join( pd.get_dummies(df.System_google_translated))\n",
    "#del df['System_google_translated']\n",
    "del df['maint_date']\n",
    "del df['maint_date_cat_prev']\n",
    "del df['maint_date_prev']\n",
    "\n",
    "df.dtypes"
   ]
  },
  {
   "cell_type": "code",
   "execution_count": 8,
   "metadata": {
    "collapsed": false
   },
   "outputs": [],
   "source": [
    "df.loc[df['System_google_translated'].isnull(), 'System_google_translated'] = \"No Maintenance\"\n",
    "df['is_train'] = np.random.uniform(0, 1, len(df)) <= .55\n",
    "del df['date']\n",
    "del df['Duration (min)']\n",
    "\n",
    "train, test = df[df['is_train']==True], df[df['is_train']==False]\n"
   ]
  },
  {
   "cell_type": "code",
   "execution_count": 9,
   "metadata": {
    "collapsed": false
   },
   "outputs": [],
   "source": [
    "features_train = train.ix[:, train.columns != 'System_google_translated']\n",
    "features_test = test.ix[:, test.columns != 'System_google_translated']\n",
    "\n",
    "y_train, y_train_lab = pd.factorize(train['System_google_translated'])\n",
    "y_test, y_test_lab = pd.factorize(test['System_google_translated'])\n",
    "\n"
   ]
  },
  {
   "cell_type": "code",
   "execution_count": 10,
   "metadata": {
    "collapsed": false
   },
   "outputs": [],
   "source": [
    "from sklearn.ensemble import RandomForestClassifier\n",
    "clf = RandomForestClassifier(n_jobs=4, random_state=0, n_estimators=1000)\n",
    "classifier = clf.fit(features_train, y_train)\n",
    "predictions = classifier.predict_proba(features_test)"
   ]
  },
  {
   "cell_type": "code",
   "execution_count": 11,
   "metadata": {
    "collapsed": false
   },
   "outputs": [],
   "source": [
    "preds_labels = pd.DataFrame(predictions, columns=y_train_lab)\n",
    "preds_labels['row_max'] = preds_labels.max(axis=1)\n",
    "\n",
    "\n",
    "for column in preds_labels.ix[:, preds_labels.columns != 'row_max']:\n",
    "    preds_labels.loc[preds_labels[column] == preds_labels['row_max'], column] = 9\n",
    "    #preds_labels.loc[preds_labels[column] != preds_labels['row_max'], 'z'] = 0\n",
    "\n",
    "\n",
    "for column in preds_labels.ix[:, preds_labels.columns != 'row_max']:\n",
    "    #preds_labels.loc[preds_labels[column] != 9, column] = 0\n",
    "    #preds_labels.loc[preds_labels[column] == 9, column] = 1\n",
    "    preds_labels.loc[preds_labels[column] == 9, 'predicted_maint_cat'] = column\n",
    "\n",
    "\n",
    "del preds_labels['row_max']"
   ]
  },
  {
   "cell_type": "code",
   "execution_count": 12,
   "metadata": {
    "collapsed": false
   },
   "outputs": [
    {
     "name": "stderr",
     "output_type": "stream",
     "text": [
      "/Users/leof/anaconda/lib/python3.5/site-packages/ipykernel/__main__.py:1: SettingWithCopyWarning: \n",
      "A value is trying to be set on a copy of a slice from a DataFrame.\n",
      "Try using .loc[row_indexer,col_indexer] = value instead\n",
      "\n",
      "See the caveats in the documentation: http://pandas.pydata.org/pandas-docs/stable/indexing.html#indexing-view-versus-copy\n",
      "  if __name__ == '__main__':\n",
      "/Users/leof/anaconda/lib/python3.5/site-packages/ipykernel/__main__.py:2: SettingWithCopyWarning: \n",
      "A value is trying to be set on a copy of a slice from a DataFrame.\n",
      "Try using .loc[row_indexer,col_indexer] = value instead\n",
      "\n",
      "See the caveats in the documentation: http://pandas.pydata.org/pandas-docs/stable/indexing.html#indexing-view-versus-copy\n",
      "  from ipykernel import kernelapp as app\n"
     ]
    }
   ],
   "source": [
    "test['predicted_maint_cat'] = preds_labels['predicted_maint_cat'].values\n",
    "test['correct_pred'] = test['System_google_translated'] == test['predicted_maint_cat']"
   ]
  },
  {
   "cell_type": "code",
   "execution_count": 13,
   "metadata": {
    "collapsed": false
   },
   "outputs": [
    {
     "data": {
      "text/plain": [
       "0.11290322580645161"
      ]
     },
     "execution_count": 13,
     "metadata": {},
     "output_type": "execute_result"
    }
   ],
   "source": [
    "#how many category do you get right?\n",
    "test[test.System_google_translated != 'No Maintenance'].correct_pred.mean()"
   ]
  },
  {
   "cell_type": "code",
   "execution_count": 14,
   "metadata": {
    "collapsed": false
   },
   "outputs": [
    {
     "data": {
      "text/plain": [
       "0.79513888888888884"
      ]
     },
     "execution_count": 14,
     "metadata": {},
     "output_type": "execute_result"
    }
   ],
   "source": [
    "#how many predictions are right\n",
    "test.correct_pred.mean()"
   ]
  },
  {
   "cell_type": "code",
   "execution_count": 15,
   "metadata": {
    "collapsed": false
   },
   "outputs": [
    {
     "name": "stderr",
     "output_type": "stream",
     "text": [
      "/Users/leof/anaconda/lib/python3.5/site-packages/ipykernel/__main__.py:2: SettingWithCopyWarning: \n",
      "A value is trying to be set on a copy of a slice from a DataFrame.\n",
      "Try using .loc[row_indexer,col_indexer] = value instead\n",
      "\n",
      "See the caveats in the documentation: http://pandas.pydata.org/pandas-docs/stable/indexing.html#indexing-view-versus-copy\n",
      "  from ipykernel import kernelapp as app\n",
      "/Users/leof/anaconda/lib/python3.5/site-packages/ipykernel/__main__.py:3: SettingWithCopyWarning: \n",
      "A value is trying to be set on a copy of a slice from a DataFrame.\n",
      "Try using .loc[row_indexer,col_indexer] = value instead\n",
      "\n",
      "See the caveats in the documentation: http://pandas.pydata.org/pandas-docs/stable/indexing.html#indexing-view-versus-copy\n",
      "  app.launch_new_instance()\n",
      "/Users/leof/anaconda/lib/python3.5/site-packages/ipykernel/__main__.py:4: SettingWithCopyWarning: \n",
      "A value is trying to be set on a copy of a slice from a DataFrame.\n",
      "Try using .loc[row_indexer,col_indexer] = value instead\n",
      "\n",
      "See the caveats in the documentation: http://pandas.pydata.org/pandas-docs/stable/indexing.html#indexing-view-versus-copy\n"
     ]
    }
   ],
   "source": [
    "#how many times do i predict that maint is necessary correctly?\n",
    "test['predict_main_necessary'] = test.predicted_maint_cat == 'No Maintenance'\n",
    "test['main_necessary'] = test.System_google_translated == 'No Maintenance'\n",
    "test['predict_that_maint_nec_at_all'] = test['predict_main_necessary'] == test['main_necessary']"
   ]
  },
  {
   "cell_type": "code",
   "execution_count": 16,
   "metadata": {
    "collapsed": false
   },
   "outputs": [
    {
     "data": {
      "text/plain": [
       "0.88020833333333337"
      ]
     },
     "execution_count": 16,
     "metadata": {},
     "output_type": "execute_result"
    }
   ],
   "source": [
    "#Predict that maintenance is indeed necessary\n",
    "test.predict_that_maint_nec_at_all.mean()"
   ]
  },
  {
   "cell_type": "code",
   "execution_count": 17,
   "metadata": {
    "collapsed": false
   },
   "outputs": [],
   "source": [
    "test_days_only = test[['truckno','days_since_start','main_necessary','predict_that_maint_nec_at_all']].drop_duplicates()"
   ]
  },
  {
   "cell_type": "code",
   "execution_count": 18,
   "metadata": {
    "collapsed": false
   },
   "outputs": [
    {
     "data": {
      "text/plain": [
       "truckno\n",
       "403.0    261.0\n",
       "408.0    258.0\n",
       "422.0    266.0\n",
       "434.0    243.0\n",
       "Name: main_necessary, dtype: float64"
      ]
     },
     "execution_count": 18,
     "metadata": {},
     "output_type": "execute_result"
    }
   ],
   "source": [
    "#number of maintenance days actual by truck\n",
    "test_days_only.groupby('truckno')['main_necessary'].sum()"
   ]
  },
  {
   "cell_type": "code",
   "execution_count": 19,
   "metadata": {
    "collapsed": false
   },
   "outputs": [
    {
     "data": {
      "text/plain": [
       "truckno\n",
       "403.0    295.0\n",
       "408.0    291.0\n",
       "422.0    288.0\n",
       "434.0    287.0\n",
       "Name: predict_that_maint_nec_at_all, dtype: float64"
      ]
     },
     "execution_count": 19,
     "metadata": {},
     "output_type": "execute_result"
    }
   ],
   "source": [
    "#number of maintenance days pred by truck\n",
    "test_days_only.groupby('truckno')['predict_that_maint_nec_at_all'].sum()"
   ]
  },
  {
   "cell_type": "code",
   "execution_count": 20,
   "metadata": {
    "collapsed": false
   },
   "outputs": [
    {
     "data": {
      "text/html": [
       "<div>\n",
       "<table border=\"1\" class=\"dataframe\">\n",
       "  <thead>\n",
       "    <tr style=\"text-align: right;\">\n",
       "      <th></th>\n",
       "      <th></th>\n",
       "      <th>days_since_start</th>\n",
       "    </tr>\n",
       "    <tr>\n",
       "      <th>truckno</th>\n",
       "      <th>System_google_translated</th>\n",
       "      <th></th>\n",
       "    </tr>\n",
       "  </thead>\n",
       "  <tbody>\n",
       "    <tr>\n",
       "      <th rowspan=\"13\" valign=\"top\">403.0</th>\n",
       "      <th>AIR</th>\n",
       "      <td>10</td>\n",
       "    </tr>\n",
       "    <tr>\n",
       "      <th>BRAKES</th>\n",
       "      <td>4</td>\n",
       "    </tr>\n",
       "    <tr>\n",
       "      <th>CAB / CHASSIS</th>\n",
       "      <td>9</td>\n",
       "    </tr>\n",
       "    <tr>\n",
       "      <th>ELECTRIC 12/24 VOLTS</th>\n",
       "      <td>5</td>\n",
       "    </tr>\n",
       "    <tr>\n",
       "      <th>HYDRAULIC</th>\n",
       "      <td>10</td>\n",
       "    </tr>\n",
       "    <tr>\n",
       "      <th>IMPLEMENTS</th>\n",
       "      <td>1</td>\n",
       "    </tr>\n",
       "    <tr>\n",
       "      <th>LUBRICATION</th>\n",
       "      <td>1</td>\n",
       "    </tr>\n",
       "    <tr>\n",
       "      <th>MOTOR</th>\n",
       "      <td>8</td>\n",
       "    </tr>\n",
       "    <tr>\n",
       "      <th>No Maintenance</th>\n",
       "      <td>261</td>\n",
       "    </tr>\n",
       "    <tr>\n",
       "      <th>POWER TRAIN</th>\n",
       "      <td>4</td>\n",
       "    </tr>\n",
       "    <tr>\n",
       "      <th>RUBBER, RIMS AND TIRES</th>\n",
       "      <td>8</td>\n",
       "    </tr>\n",
       "    <tr>\n",
       "      <th>SECURITY</th>\n",
       "      <td>7</td>\n",
       "    </tr>\n",
       "    <tr>\n",
       "      <th>SERVICES</th>\n",
       "      <td>1</td>\n",
       "    </tr>\n",
       "    <tr>\n",
       "      <th rowspan=\"15\" valign=\"top\">408.0</th>\n",
       "      <th>ADDRESS</th>\n",
       "      <td>1</td>\n",
       "    </tr>\n",
       "    <tr>\n",
       "      <th>AIR</th>\n",
       "      <td>15</td>\n",
       "    </tr>\n",
       "    <tr>\n",
       "      <th>BRAKES</th>\n",
       "      <td>2</td>\n",
       "    </tr>\n",
       "    <tr>\n",
       "      <th>CAB / CHASSIS</th>\n",
       "      <td>17</td>\n",
       "    </tr>\n",
       "    <tr>\n",
       "      <th>ELECTRIC 12/24 VOLTS</th>\n",
       "      <td>7</td>\n",
       "    </tr>\n",
       "    <tr>\n",
       "      <th>HYDRAULIC</th>\n",
       "      <td>5</td>\n",
       "    </tr>\n",
       "    <tr>\n",
       "      <th>LOW VOLTAGE</th>\n",
       "      <td>1</td>\n",
       "    </tr>\n",
       "    <tr>\n",
       "      <th>LUBRICATION</th>\n",
       "      <td>1</td>\n",
       "    </tr>\n",
       "    <tr>\n",
       "      <th>MOTOR</th>\n",
       "      <td>6</td>\n",
       "    </tr>\n",
       "    <tr>\n",
       "      <th>No Maintenance</th>\n",
       "      <td>258</td>\n",
       "    </tr>\n",
       "    <tr>\n",
       "      <th>POWER TRAIN</th>\n",
       "      <td>1</td>\n",
       "    </tr>\n",
       "    <tr>\n",
       "      <th>PROPULSION</th>\n",
       "      <td>1</td>\n",
       "    </tr>\n",
       "    <tr>\n",
       "      <th>RUBBER, RIMS AND TIRES</th>\n",
       "      <td>7</td>\n",
       "    </tr>\n",
       "    <tr>\n",
       "      <th>SECURITY</th>\n",
       "      <td>5</td>\n",
       "    </tr>\n",
       "    <tr>\n",
       "      <th>SERVICES</th>\n",
       "      <td>1</td>\n",
       "    </tr>\n",
       "    <tr>\n",
       "      <th rowspan=\"15\" valign=\"top\">422.0</th>\n",
       "      <th>ADDRESS</th>\n",
       "      <td>1</td>\n",
       "    </tr>\n",
       "    <tr>\n",
       "      <th>AIR</th>\n",
       "      <td>1</td>\n",
       "    </tr>\n",
       "    <tr>\n",
       "      <th>BRAKES</th>\n",
       "      <td>2</td>\n",
       "    </tr>\n",
       "    <tr>\n",
       "      <th>CAB / CHASSIS</th>\n",
       "      <td>9</td>\n",
       "    </tr>\n",
       "    <tr>\n",
       "      <th>CABIN / CHASSIS</th>\n",
       "      <td>1</td>\n",
       "    </tr>\n",
       "    <tr>\n",
       "      <th>ELECTRIC 12/24 VOLTS</th>\n",
       "      <td>8</td>\n",
       "    </tr>\n",
       "    <tr>\n",
       "      <th>HYDRAULIC</th>\n",
       "      <td>2</td>\n",
       "    </tr>\n",
       "    <tr>\n",
       "      <th>IMPLEMENTS</th>\n",
       "      <td>1</td>\n",
       "    </tr>\n",
       "    <tr>\n",
       "      <th>LOW VOLTAGE</th>\n",
       "      <td>1</td>\n",
       "    </tr>\n",
       "    <tr>\n",
       "      <th>MOTOR</th>\n",
       "      <td>8</td>\n",
       "    </tr>\n",
       "    <tr>\n",
       "      <th>No Maintenance</th>\n",
       "      <td>266</td>\n",
       "    </tr>\n",
       "    <tr>\n",
       "      <th>POWER TRAIN</th>\n",
       "      <td>3</td>\n",
       "    </tr>\n",
       "    <tr>\n",
       "      <th>RUBBER, RIMS AND TIRES</th>\n",
       "      <td>12</td>\n",
       "    </tr>\n",
       "    <tr>\n",
       "      <th>SECURITY</th>\n",
       "      <td>2</td>\n",
       "    </tr>\n",
       "    <tr>\n",
       "      <th>SERVICES</th>\n",
       "      <td>3</td>\n",
       "    </tr>\n",
       "    <tr>\n",
       "      <th rowspan=\"13\" valign=\"top\">434.0</th>\n",
       "      <th>ADDRESS</th>\n",
       "      <td>1</td>\n",
       "    </tr>\n",
       "    <tr>\n",
       "      <th>AIR</th>\n",
       "      <td>1</td>\n",
       "    </tr>\n",
       "    <tr>\n",
       "      <th>BRAKES</th>\n",
       "      <td>23</td>\n",
       "    </tr>\n",
       "    <tr>\n",
       "      <th>CAB / CHASSIS</th>\n",
       "      <td>16</td>\n",
       "    </tr>\n",
       "    <tr>\n",
       "      <th>ELECTRIC 12/24 VOLTS</th>\n",
       "      <td>9</td>\n",
       "    </tr>\n",
       "    <tr>\n",
       "      <th>HYDRAULIC</th>\n",
       "      <td>8</td>\n",
       "    </tr>\n",
       "    <tr>\n",
       "      <th>IMPLEMENTS</th>\n",
       "      <td>3</td>\n",
       "    </tr>\n",
       "    <tr>\n",
       "      <th>LUBRICATION</th>\n",
       "      <td>2</td>\n",
       "    </tr>\n",
       "    <tr>\n",
       "      <th>MOTOR</th>\n",
       "      <td>8</td>\n",
       "    </tr>\n",
       "    <tr>\n",
       "      <th>No Maintenance</th>\n",
       "      <td>242</td>\n",
       "    </tr>\n",
       "    <tr>\n",
       "      <th>POWER TRAIN</th>\n",
       "      <td>2</td>\n",
       "    </tr>\n",
       "    <tr>\n",
       "      <th>RUBBER, RIMS AND TIRES</th>\n",
       "      <td>18</td>\n",
       "    </tr>\n",
       "    <tr>\n",
       "      <th>SECURITY</th>\n",
       "      <td>3</td>\n",
       "    </tr>\n",
       "  </tbody>\n",
       "</table>\n",
       "</div>"
      ],
      "text/plain": [
       "                                  days_since_start\n",
       "truckno System_google_translated                  \n",
       "403.0   AIR                                     10\n",
       "        BRAKES                                   4\n",
       "        CAB / CHASSIS                            9\n",
       "        ELECTRIC 12/24 VOLTS                     5\n",
       "        HYDRAULIC                               10\n",
       "        IMPLEMENTS                               1\n",
       "        LUBRICATION                              1\n",
       "        MOTOR                                    8\n",
       "        No Maintenance                         261\n",
       "        POWER TRAIN                              4\n",
       "        RUBBER, RIMS AND TIRES                   8\n",
       "        SECURITY                                 7\n",
       "        SERVICES                                 1\n",
       "408.0   ADDRESS                                  1\n",
       "        AIR                                     15\n",
       "        BRAKES                                   2\n",
       "        CAB / CHASSIS                           17\n",
       "        ELECTRIC 12/24 VOLTS                     7\n",
       "        HYDRAULIC                                5\n",
       "        LOW VOLTAGE                              1\n",
       "        LUBRICATION                              1\n",
       "        MOTOR                                    6\n",
       "        No Maintenance                         258\n",
       "        POWER TRAIN                              1\n",
       "        PROPULSION                               1\n",
       "        RUBBER, RIMS AND TIRES                   7\n",
       "        SECURITY                                 5\n",
       "        SERVICES                                 1\n",
       "422.0   ADDRESS                                  1\n",
       "        AIR                                      1\n",
       "        BRAKES                                   2\n",
       "        CAB / CHASSIS                            9\n",
       "        CABIN / CHASSIS                          1\n",
       "        ELECTRIC 12/24 VOLTS                     8\n",
       "        HYDRAULIC                                2\n",
       "        IMPLEMENTS                               1\n",
       "        LOW VOLTAGE                              1\n",
       "        MOTOR                                    8\n",
       "        No Maintenance                         266\n",
       "        POWER TRAIN                              3\n",
       "        RUBBER, RIMS AND TIRES                  12\n",
       "        SECURITY                                 2\n",
       "        SERVICES                                 3\n",
       "434.0   ADDRESS                                  1\n",
       "        AIR                                      1\n",
       "        BRAKES                                  23\n",
       "        CAB / CHASSIS                           16\n",
       "        ELECTRIC 12/24 VOLTS                     9\n",
       "        HYDRAULIC                                8\n",
       "        IMPLEMENTS                               3\n",
       "        LUBRICATION                              2\n",
       "        MOTOR                                    8\n",
       "        No Maintenance                         242\n",
       "        POWER TRAIN                              2\n",
       "        RUBBER, RIMS AND TIRES                  18\n",
       "        SECURITY                                 3"
      ]
     },
     "execution_count": 20,
     "metadata": {},
     "output_type": "execute_result"
    }
   ],
   "source": [
    "#overall how oftendoes what need unplanned maintenance?\n",
    "test[['truckno','days_since_start','System_google_translated']].drop_duplicates().groupby(['truckno','System_google_translated']).count()"
   ]
  },
  {
   "cell_type": "code",
   "execution_count": 21,
   "metadata": {
    "collapsed": false
   },
   "outputs": [
    {
     "data": {
      "text/plain": [
       "System_google_translated\n",
       "ADDRESS                   0.000000\n",
       "AIR                       0.071429\n",
       "BRAKES                    0.138889\n",
       "CAB / CHASSIS             0.272727\n",
       "CABIN / CHASSIS           0.000000\n",
       "ELECTRIC 12/24 VOLTS      0.096774\n",
       "HYDRAULIC                 0.076923\n",
       "IMPLEMENTS                0.000000\n",
       "LOW VOLTAGE               0.000000\n",
       "LUBRICATION               0.000000\n",
       "MOTOR                     0.216216\n",
       "No Maintenance            0.999027\n",
       "POWER TRAIN               0.090909\n",
       "PROPULSION                0.000000\n",
       "RUBBER, RIMS AND TIRES    0.117647\n",
       "SECURITY                  0.150000\n",
       "SERVICES                  0.000000\n",
       "Name: correct_pred, dtype: float64"
      ]
     },
     "execution_count": 21,
     "metadata": {},
     "output_type": "execute_result"
    }
   ],
   "source": [
    "test[['truckno','days_since_start','System_google_translated','correct_pred']].drop_duplicates().groupby(['System_google_translated'])['correct_pred'].mean()"
   ]
  },
  {
   "cell_type": "code",
   "execution_count": null,
   "metadata": {
    "collapsed": true
   },
   "outputs": [],
   "source": []
  },
  {
   "cell_type": "code",
   "execution_count": null,
   "metadata": {
    "collapsed": true
   },
   "outputs": [],
   "source": []
  },
  {
   "cell_type": "code",
   "execution_count": null,
   "metadata": {
    "collapsed": true
   },
   "outputs": [],
   "source": []
  }
 ],
 "metadata": {
  "anaconda-cloud": {},
  "kernelspec": {
   "display_name": "Python [default]",
   "language": "python",
   "name": "python3"
  }
 },
 "nbformat": 4,
 "nbformat_minor": 1
}
